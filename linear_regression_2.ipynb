{
 "cells": [
  {
   "cell_type": "code",
   "execution_count": 1,
   "id": "13106134",
   "metadata": {},
   "outputs": [
    {
     "name": "stdout",
     "output_type": "stream",
     "text": [
      "w1 = 1.9984948163014062, w2 = 2.9981314255008598, b = 7.343105272889066, MSE_train = 1.1853885695119106 sau 2922 vòng lặp\n"
     ]
    },
    {
     "data": {
      "image/png": "[encoded data removed]",
      "text/plain": [
       "<Figure size 432x288 with 1 Axes>"
      ]
     },
     "metadata": {
      "needs_background": "light"
     },
     "output_type": "display_data"
    },
    {
     "name": "stdout",
     "output_type": "stream",
     "text": [
      "MSE_test = 1.0443323908286641\n",
      "run time 1.1996314525604248\n"
     ]
    },
    {
     "data": {
      "image/png": "[encoded data removed]",
      "text/plain": [
       "<Figure size 432x288 with 1 Axes>"
      ]
     },
     "metadata": {
      "needs_background": "light"
     },
     "output_type": "display_data"
    }
   ],
   "source": [
    "import numpy as np\n",
    "import random\n",
    "import matplotlib.pyplot as plt\n",
    "import time\n",
    "start_time = time.time()\n",
    "np.random.seed(3)\n",
    "X1 = np.random.randint(11, high=161, size=150, dtype=int)\n",
    "X2 = np.random.randint(6, high=156, size=150, dtype=int)\n",
    "\n",
    "y = 2*X1 + 3*X2 + 7 + np.random.randn(150)\n",
    "X1_train = X1[0:100]\n",
    "X2_train = X2[0:100]\n",
    "y_train = y[0:100]\n",
    "X1_test = X1[100:]\n",
    "X2_test = X2[100:]\n",
    "y_test = y[100:]\n",
    "\n",
    "def value(X1, X2, w1, w2, b):\n",
    "    return X1*w1 + X2*w2 + b;\n",
    "def L_MSE(y_predict, y):\n",
    "    a = (y_predict - y)**2\n",
    "    return np.mean(a);\n",
    "def derivative_MSE_w1(X1, y, y_predict): \n",
    "    a = X1*(y_predict - y);\n",
    "    return np.mean(a);\n",
    "def derivative_MSE_w2(X2, y, y_predict): \n",
    "    a = X2*(y_predict - y);\n",
    "    return np.mean(a);\n",
    "def derivative_MSE_b(y, y_predict): \n",
    "    a = (y_predict - y);\n",
    "    return np.mean(a);\n",
    "\n",
    "#init\n",
    "w1 = 1; w2 = 1; b = 2\n",
    "u = 0.00001; u1 = 0.1\n",
    "stored = []; MSE = [];\n",
    "for i in range(0, 5000):\n",
    "    y_predict = value(X1_train, X2_train, w1, w2, b)\n",
    "    stored.append((w1, w2, b));\n",
    "    MSE.append(L_MSE(y_predict, y_train))\n",
    "    w1 = w1 - u*derivative_MSE_w1(X1_train, y_train, y_predict);\n",
    "    w2 = w2 - u*derivative_MSE_w2(X2_train, y_train, y_predict);\n",
    "    b = b - u1*derivative_MSE_b(y_train, y_predict);\n",
    "# train\n",
    "w_b = stored[MSE.index(min(MSE))]\n",
    "w1, w2, b = w_b\n",
    "print(\"w1 = {0}, w2 = {1}, b = {2}, MSE_train = {3} sau {4} vòng lặp\".format(w1, w2, b,min(MSE), MSE.index(min(MSE)) +1 ))\n",
    "y_train_predict = w1*X1_train + w2*X2_train + b\n",
    "plt.plot(MSE)\n",
    "plt.show()\n",
    "# bộ dữ liệu test\n",
    "y_test_predict = w1*X1_test + w2*X2_test + b\n",
    "MSE_test = L_MSE(y_test_predict, y_test)\n",
    "print(\"MSE_test = {}\".format(MSE_test))\n",
    "run_time = time.time() - start_time\n",
    "print('run time', run_time)\n",
    "plt.plot(MSE)\n",
    "plt.show()"
   ]
  },
  {
   "cell_type": "code",
   "execution_count": 4,
   "id": "276ba3f5",
   "metadata": {},
   "outputs": [
    {
     "data": {
      "text/plain": [
       "(1.5152703923464441, 1.5096339629584146, 57.018866438055994)"
      ]
     },
     "execution_count": 4,
     "metadata": {},
     "output_type": "execute_result"
    }
   ],
   "source": [
    "stored[3]"
   ]
  },
  {
   "cell_type": "code",
   "execution_count": 5,
   "id": "873fa14b",
   "metadata": {},
   "outputs": [
    {
     "ename": "NameError",
     "evalue": "name 'w3' is not defined",
     "output_type": "error",
     "traceback": [
      "\u001b[1;31m---------------------------------------------------------------------------\u001b[0m",
      "\u001b[1;31mNameError\u001b[0m                                 Traceback (most recent call last)",
      "Input \u001b[1;32mIn [5]\u001b[0m, in \u001b[0;36m<cell line: 2>\u001b[1;34m()\u001b[0m\n\u001b[0;32m      1\u001b[0m w1, w2, b \u001b[38;5;241m=\u001b[39m stored[\u001b[38;5;241m3\u001b[39m]\n\u001b[1;32m----> 2\u001b[0m w1, w2, \u001b[43mw3\u001b[49m\n",
      "\u001b[1;31mNameError\u001b[0m: name 'w3' is not defined"
     ]
    }
   ],
   "source": [
    "w1, w2, b = stored[3]\n",
    "w1, w2, w3"
   ]
  },
  {
   "cell_type": "code",
   "execution_count": null,
   "id": "82094d07",
   "metadata": {},
   "outputs": [],
   "source": []
  }
 ],
 "metadata": {
  "kernelspec": {
   "display_name": "Python 3 (ipykernel)",
   "language": "python",
   "name": "python3"
  },
  "language_info": {
   "codemirror_mode": {
    "name": "ipython",
    "version": 3
   },
   "file_extension": ".py",
   "mimetype": "text/x-python",
   "name": "python",
   "nbconvert_exporter": "python",
   "pygments_lexer": "ipython3",
   "version": "3.9.12"
  }
 },
 "nbformat": 4,
 "nbformat_minor": 5
}
