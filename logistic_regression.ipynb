{
 "cells": [
  {
   "cell_type": "code",
   "execution_count": 12,
   "id": "c2026458",
   "metadata": {},
   "outputs": [
    {
     "name": "stdout",
     "output_type": "stream",
     "text": [
      "w1 = 0.6039366864156861, b = -47.35307400245374, MSE_train = 0.06441155041002307 sau 672 vòng lặp\n",
      "rate train is:  100.0 %\n"
     ]
    },
    {
     "name": "stderr",
     "output_type": "stream",
     "text": [
      "C:\\Users\\Admin\\AppData\\Local\\Temp\\ipykernel_13756\\2074738845.py:19: RuntimeWarning: overflow encountered in exp\n",
      "  a = 1/(1+np.exp(-g))\n",
      "C:\\Users\\Admin\\AppData\\Local\\Temp\\ipykernel_13756\\2074738845.py:22: RuntimeWarning: divide by zero encountered in log\n",
      "  x = np.log(sigmoid_result)\n",
      "C:\\Users\\Admin\\AppData\\Local\\Temp\\ipykernel_13756\\2074738845.py:24: RuntimeWarning: invalid value encountered in multiply\n",
      "  a = -(y)*x - (1-y)*x1\n",
      "C:\\Users\\Admin\\AppData\\Local\\Temp\\ipykernel_13756\\2074738845.py:23: RuntimeWarning: divide by zero encountered in log\n",
      "  x1 = np.log(1 - sigmoid_result)\n"
     ]
    },
    {
     "data": {
      "image/png": "[encoded data removed]",
      "text/plain": [
       "<Figure size 432x288 with 1 Axes>"
      ]
     },
     "metadata": {
      "needs_background": "light"
     },
     "output_type": "display_data"
    }
   ],
   "source": [
    "import numpy as np\n",
    "import pandas as pd\n",
    "import matplotlib.pyplot as plt\n",
    "from sklearn.model_selection import train_test_split\n",
    "import math\n",
    "\n",
    "# prepare datate\n",
    "X = np.array([50, 60, 61, 65, 70, 75, 80, 81, 88, 90])\n",
    "X = X.reshape(-1, 1)\n",
    "one_b = np.ones((X.shape[0], 1))\n",
    "X = np.concatenate((X, one_b), axis = 1)\n",
    "y = np.array([0, 0, 0, 0, 0, 0, 1, 1, 1, 1])\n",
    "y = y.reshape(-1,1)\n",
    "# function\n",
    "def g_function(X, w_b):\n",
    "    return X.dot(w_b.reshape(-1, 1)); # (z) mảng w_b ban đầu là mảng 1 chiều dùng reshape để chuyên về nhiều hàng 1 cột, để nhân có hướng với X\n",
    "\n",
    "def sigmoid(g): # g = w*x + b\n",
    "    a = 1/(1+np.exp(-g))\n",
    "    return a\n",
    "def Loss_function(y, sigmoid_result):\n",
    "    x = np.log(sigmoid_result)\n",
    "    x1 = np.log(1 - sigmoid_result)\n",
    "    a = -(y)*x - (1-y)*x1\n",
    "    return np.mean(a)\n",
    "    \n",
    "def derivative_Loss_wb(X, y, y_predict): \n",
    "    a = (y_predict - y)*X\n",
    "    return np.mean(a, axis=0);\n",
    "def value_final(y_predict, bound):\n",
    "    for i in range(0, y_predict.shape[0]):\n",
    "        if (y_predict[i] > bound):\n",
    "            y_predict[i] = 1\n",
    "        else:\n",
    "            y_predict[i] = 0\n",
    "    return y_predict\n",
    "def accurate_rate(y_predict, y):\n",
    "    count = 0\n",
    "    for i in range(0, y_predict.shape[0]):\n",
    "        if (y_predict[i] == y[i]):\n",
    "            count = count+1\n",
    "    return count/y_predict.shape[0]*100\n",
    "    \n",
    "w1 = 0.03; b = 0.05\n",
    "stored = []; MSE = [];\n",
    "u = 1;\n",
    "bound = 0.5\n",
    "for i in range(0, 1000):\n",
    "    w_b = np.array([w1, b])\n",
    "    g = g_function(X, w_b)\n",
    "    y_predict = sigmoid(g)\n",
    "    stored.append(w_b.copy());\n",
    "    MSE.append(Loss_function(y, y_predict))\n",
    "    derivate_MSE = derivative_Loss_wb(X, y, y_predict)\n",
    "    w1 = w1 - u*derivate_MSE[0];\n",
    "    b = b - u*derivate_MSE[1];\n",
    "w_b = stored[MSE.index(min(MSE))]\n",
    "w1, b = w_b\n",
    "print(\"w1 = {0}, b = {1}, MSE_train = {2} sau {3} vòng lặp\".format(w1, b, min(MSE), (MSE.index(min(MSE)) + 1)))\n",
    "plt.plot(MSE)\n",
    "g = g_function(X, w_b)\n",
    "y_predict = sigmoid(g)\n",
    "y_final = value_final(y_predict, bound)\n",
    "percent = accurate_rate(y_predict, y)\n",
    "print(\"rate train is: \", percent, \"%\")"
   ]
  },
  {
   "cell_type": "code",
   "execution_count": 13,
   "id": "763398c3",
   "metadata": {},
   "outputs": [
    {
     "data": {
      "text/plain": [
       "[<matplotlib.lines.Line2D at 0x1e9d90de1c0>]"
      ]
     },
     "execution_count": 13,
     "metadata": {},
     "output_type": "execute_result"
    },
    {
     "data": {
      "image/png": "[encoded data removed]",
      "text/plain": [
       "<Figure size 432x288 with 1 Axes>"
      ]
     },
     "metadata": {
      "needs_background": "light"
     },
     "output_type": "display_data"
    }
   ],
   "source": [
    "plt.plot(y_predict)\n"
   ]
  },
  {
   "cell_type": "code",
   "execution_count": 14,
   "id": "9295b288",
   "metadata": {},
   "outputs": [
    {
     "data": {
      "text/plain": [
       "[<matplotlib.lines.Line2D at 0x1e9da10a1c0>]"
      ]
     },
     "execution_count": 14,
     "metadata": {},
     "output_type": "execute_result"
    },
    {
     "data": {
      "image/png": "[encoded data removed]",
      "text/plain": [
       "<Figure size 432x288 with 1 Axes>"
      ]
     },
     "metadata": {
      "needs_background": "light"
     },
     "output_type": "display_data"
    }
   ],
   "source": [
    "plt.plot(y)"
   ]
  },
  {
   "cell_type": "code",
   "execution_count": 15,
   "id": "a3bea88c",
   "metadata": {},
   "outputs": [
    {
     "data": {
      "text/plain": [
       "[<matplotlib.lines.Line2D at 0x1e9da15ec40>]"
      ]
     },
     "execution_count": 15,
     "metadata": {},
     "output_type": "execute_result"
    },
    {
     "data": {
      "image/png": "[encoded data removed]",
      "text/plain": [
       "<Figure size 432x288 with 1 Axes>"
      ]
     },
     "metadata": {
      "needs_background": "light"
     },
     "output_type": "display_data"
    }
   ],
   "source": [
    "plt.plot(y_final)"
   ]
  },
  {
   "cell_type": "code",
   "execution_count": 17,
   "id": "3fb8852f",
   "metadata": {},
   "outputs": [
    {
     "data": {
      "text/plain": [
       "0.06441155041002307"
      ]
     },
     "execution_count": 17,
     "metadata": {},
     "output_type": "execute_result"
    }
   ],
   "source": [
    "MSE[671]"
   ]
  },
  {
   "cell_type": "code",
   "execution_count": null,
   "id": "c030f3fc",
   "metadata": {},
   "outputs": [],
   "source": []
  },
  {
   "cell_type": "code",
   "execution_count": null,
   "id": "6a9133d8",
   "metadata": {},
   "outputs": [],
   "source": []
  }
 ],
 "metadata": {
  "kernelspec": {
   "display_name": "Python 3 (ipykernel)",
   "language": "python",
   "name": "python3"
  },
  "language_info": {
   "codemirror_mode": {
    "name": "ipython",
    "version": 3
   },
   "file_extension": ".py",
   "mimetype": "text/x-python",
   "name": "python",
   "nbconvert_exporter": "python",
   "pygments_lexer": "ipython3",
   "version": "3.9.12"
  }
 },
 "nbformat": 4,
 "nbformat_minor": 5
}
