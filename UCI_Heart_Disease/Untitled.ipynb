{
 "cells": [
  {
   "cell_type": "code",
   "execution_count": 1,
   "id": "44e8ebd5",
   "metadata": {},
   "outputs": [
    {
     "data": {
      "text/html": [
       "<div>\n",
       "<style scoped>\n",
       "    .dataframe tbody tr th:only-of-type {\n",
       "        vertical-align: middle;\n",
       "    }\n",
       "\n",
       "    .dataframe tbody tr th {\n",
       "        vertical-align: top;\n",
       "    }\n",
       "\n",
       "    .dataframe thead th {\n",
       "        text-align: right;\n",
       "    }\n",
       "</style>\n",
       "<table border=\"1\" class=\"dataframe\">\n",
       "  <thead>\n",
       "    <tr style=\"text-align: right;\">\n",
       "      <th></th>\n",
       "      <th>age</th>\n",
       "      <th>sex</th>\n",
       "      <th>cp</th>\n",
       "      <th>trestbps</th>\n",
       "      <th>chol</th>\n",
       "      <th>fbs</th>\n",
       "      <th>restecg</th>\n",
       "      <th>thalach</th>\n",
       "      <th>exang</th>\n",
       "      <th>oldpeak</th>\n",
       "      <th>slope</th>\n",
       "      <th>ca</th>\n",
       "      <th>thal</th>\n",
       "      <th>target</th>\n",
       "    </tr>\n",
       "  </thead>\n",
       "  <tbody>\n",
       "    <tr>\n",
       "      <th>0</th>\n",
       "      <td>52</td>\n",
       "      <td>1</td>\n",
       "      <td>0</td>\n",
       "      <td>125</td>\n",
       "      <td>212</td>\n",
       "      <td>0</td>\n",
       "      <td>1</td>\n",
       "      <td>168</td>\n",
       "      <td>0</td>\n",
       "      <td>1.0</td>\n",
       "      <td>2</td>\n",
       "      <td>2</td>\n",
       "      <td>3</td>\n",
       "      <td>0</td>\n",
       "    </tr>\n",
       "    <tr>\n",
       "      <th>1</th>\n",
       "      <td>53</td>\n",
       "      <td>1</td>\n",
       "      <td>0</td>\n",
       "      <td>140</td>\n",
       "      <td>203</td>\n",
       "      <td>1</td>\n",
       "      <td>0</td>\n",
       "      <td>155</td>\n",
       "      <td>1</td>\n",
       "      <td>3.1</td>\n",
       "      <td>0</td>\n",
       "      <td>0</td>\n",
       "      <td>3</td>\n",
       "      <td>0</td>\n",
       "    </tr>\n",
       "    <tr>\n",
       "      <th>2</th>\n",
       "      <td>70</td>\n",
       "      <td>1</td>\n",
       "      <td>0</td>\n",
       "      <td>145</td>\n",
       "      <td>174</td>\n",
       "      <td>0</td>\n",
       "      <td>1</td>\n",
       "      <td>125</td>\n",
       "      <td>1</td>\n",
       "      <td>2.6</td>\n",
       "      <td>0</td>\n",
       "      <td>0</td>\n",
       "      <td>3</td>\n",
       "      <td>0</td>\n",
       "    </tr>\n",
       "    <tr>\n",
       "      <th>3</th>\n",
       "      <td>61</td>\n",
       "      <td>1</td>\n",
       "      <td>0</td>\n",
       "      <td>148</td>\n",
       "      <td>203</td>\n",
       "      <td>0</td>\n",
       "      <td>1</td>\n",
       "      <td>161</td>\n",
       "      <td>0</td>\n",
       "      <td>0.0</td>\n",
       "      <td>2</td>\n",
       "      <td>1</td>\n",
       "      <td>3</td>\n",
       "      <td>0</td>\n",
       "    </tr>\n",
       "    <tr>\n",
       "      <th>4</th>\n",
       "      <td>62</td>\n",
       "      <td>0</td>\n",
       "      <td>0</td>\n",
       "      <td>138</td>\n",
       "      <td>294</td>\n",
       "      <td>1</td>\n",
       "      <td>1</td>\n",
       "      <td>106</td>\n",
       "      <td>0</td>\n",
       "      <td>1.9</td>\n",
       "      <td>1</td>\n",
       "      <td>3</td>\n",
       "      <td>2</td>\n",
       "      <td>0</td>\n",
       "    </tr>\n",
       "  </tbody>\n",
       "</table>\n",
       "</div>"
      ],
      "text/plain": [
       "   age  sex  cp  trestbps  chol  fbs  restecg  thalach  exang  oldpeak  slope  \\\n",
       "0   52    1   0       125   212    0        1      168      0      1.0      2   \n",
       "1   53    1   0       140   203    1        0      155      1      3.1      0   \n",
       "2   70    1   0       145   174    0        1      125      1      2.6      0   \n",
       "3   61    1   0       148   203    0        1      161      0      0.0      2   \n",
       "4   62    0   0       138   294    1        1      106      0      1.9      1   \n",
       "\n",
       "   ca  thal  target  \n",
       "0   2     3       0  \n",
       "1   0     3       0  \n",
       "2   0     3       0  \n",
       "3   1     3       0  \n",
       "4   3     2       0  "
      ]
     },
     "execution_count": 1,
     "metadata": {},
     "output_type": "execute_result"
    }
   ],
   "source": [
    "import numpy as np\n",
    "import pandas as pd\n",
    "from sklearn.model_selection import train_test_split\n",
    "import matplotlib.pyplot as plt\n",
    "df = pd.read_csv('heart.csv')\n",
    "df.head()"
   ]
  },
  {
   "cell_type": "code",
   "execution_count": 2,
   "id": "d711472d",
   "metadata": {},
   "outputs": [
    {
     "data": {
      "text/html": [
       "<div>\n",
       "<style scoped>\n",
       "    .dataframe tbody tr th:only-of-type {\n",
       "        vertical-align: middle;\n",
       "    }\n",
       "\n",
       "    .dataframe tbody tr th {\n",
       "        vertical-align: top;\n",
       "    }\n",
       "\n",
       "    .dataframe thead th {\n",
       "        text-align: right;\n",
       "    }\n",
       "</style>\n",
       "<table border=\"1\" class=\"dataframe\">\n",
       "  <thead>\n",
       "    <tr style=\"text-align: right;\">\n",
       "      <th></th>\n",
       "      <th>age</th>\n",
       "      <th>sex</th>\n",
       "      <th>cp</th>\n",
       "      <th>trestbps</th>\n",
       "      <th>chol</th>\n",
       "      <th>fbs</th>\n",
       "      <th>restecg</th>\n",
       "      <th>thalach</th>\n",
       "      <th>exang</th>\n",
       "      <th>oldpeak</th>\n",
       "      <th>slope</th>\n",
       "      <th>ca</th>\n",
       "      <th>thal</th>\n",
       "      <th>target</th>\n",
       "    </tr>\n",
       "  </thead>\n",
       "  <tbody>\n",
       "    <tr>\n",
       "      <th>count</th>\n",
       "      <td>1025.000000</td>\n",
       "      <td>1025.000000</td>\n",
       "      <td>1025.000000</td>\n",
       "      <td>1025.000000</td>\n",
       "      <td>1025.00000</td>\n",
       "      <td>1025.000000</td>\n",
       "      <td>1025.000000</td>\n",
       "      <td>1025.000000</td>\n",
       "      <td>1025.000000</td>\n",
       "      <td>1025.000000</td>\n",
       "      <td>1025.000000</td>\n",
       "      <td>1025.000000</td>\n",
       "      <td>1025.000000</td>\n",
       "      <td>1025.000000</td>\n",
       "    </tr>\n",
       "    <tr>\n",
       "      <th>mean</th>\n",
       "      <td>54.434146</td>\n",
       "      <td>0.695610</td>\n",
       "      <td>0.942439</td>\n",
       "      <td>131.611707</td>\n",
       "      <td>246.00000</td>\n",
       "      <td>0.149268</td>\n",
       "      <td>0.529756</td>\n",
       "      <td>149.114146</td>\n",
       "      <td>0.336585</td>\n",
       "      <td>1.071512</td>\n",
       "      <td>1.385366</td>\n",
       "      <td>0.754146</td>\n",
       "      <td>2.323902</td>\n",
       "      <td>0.513171</td>\n",
       "    </tr>\n",
       "    <tr>\n",
       "      <th>std</th>\n",
       "      <td>9.072290</td>\n",
       "      <td>0.460373</td>\n",
       "      <td>1.029641</td>\n",
       "      <td>17.516718</td>\n",
       "      <td>51.59251</td>\n",
       "      <td>0.356527</td>\n",
       "      <td>0.527878</td>\n",
       "      <td>23.005724</td>\n",
       "      <td>0.472772</td>\n",
       "      <td>1.175053</td>\n",
       "      <td>0.617755</td>\n",
       "      <td>1.030798</td>\n",
       "      <td>0.620660</td>\n",
       "      <td>0.500070</td>\n",
       "    </tr>\n",
       "    <tr>\n",
       "      <th>min</th>\n",
       "      <td>29.000000</td>\n",
       "      <td>0.000000</td>\n",
       "      <td>0.000000</td>\n",
       "      <td>94.000000</td>\n",
       "      <td>126.00000</td>\n",
       "      <td>0.000000</td>\n",
       "      <td>0.000000</td>\n",
       "      <td>71.000000</td>\n",
       "      <td>0.000000</td>\n",
       "      <td>0.000000</td>\n",
       "      <td>0.000000</td>\n",
       "      <td>0.000000</td>\n",
       "      <td>0.000000</td>\n",
       "      <td>0.000000</td>\n",
       "    </tr>\n",
       "    <tr>\n",
       "      <th>25%</th>\n",
       "      <td>48.000000</td>\n",
       "      <td>0.000000</td>\n",
       "      <td>0.000000</td>\n",
       "      <td>120.000000</td>\n",
       "      <td>211.00000</td>\n",
       "      <td>0.000000</td>\n",
       "      <td>0.000000</td>\n",
       "      <td>132.000000</td>\n",
       "      <td>0.000000</td>\n",
       "      <td>0.000000</td>\n",
       "      <td>1.000000</td>\n",
       "      <td>0.000000</td>\n",
       "      <td>2.000000</td>\n",
       "      <td>0.000000</td>\n",
       "    </tr>\n",
       "    <tr>\n",
       "      <th>50%</th>\n",
       "      <td>56.000000</td>\n",
       "      <td>1.000000</td>\n",
       "      <td>1.000000</td>\n",
       "      <td>130.000000</td>\n",
       "      <td>240.00000</td>\n",
       "      <td>0.000000</td>\n",
       "      <td>1.000000</td>\n",
       "      <td>152.000000</td>\n",
       "      <td>0.000000</td>\n",
       "      <td>0.800000</td>\n",
       "      <td>1.000000</td>\n",
       "      <td>0.000000</td>\n",
       "      <td>2.000000</td>\n",
       "      <td>1.000000</td>\n",
       "    </tr>\n",
       "    <tr>\n",
       "      <th>75%</th>\n",
       "      <td>61.000000</td>\n",
       "      <td>1.000000</td>\n",
       "      <td>2.000000</td>\n",
       "      <td>140.000000</td>\n",
       "      <td>275.00000</td>\n",
       "      <td>0.000000</td>\n",
       "      <td>1.000000</td>\n",
       "      <td>166.000000</td>\n",
       "      <td>1.000000</td>\n",
       "      <td>1.800000</td>\n",
       "      <td>2.000000</td>\n",
       "      <td>1.000000</td>\n",
       "      <td>3.000000</td>\n",
       "      <td>1.000000</td>\n",
       "    </tr>\n",
       "    <tr>\n",
       "      <th>max</th>\n",
       "      <td>77.000000</td>\n",
       "      <td>1.000000</td>\n",
       "      <td>3.000000</td>\n",
       "      <td>200.000000</td>\n",
       "      <td>564.00000</td>\n",
       "      <td>1.000000</td>\n",
       "      <td>2.000000</td>\n",
       "      <td>202.000000</td>\n",
       "      <td>1.000000</td>\n",
       "      <td>6.200000</td>\n",
       "      <td>2.000000</td>\n",
       "      <td>4.000000</td>\n",
       "      <td>3.000000</td>\n",
       "      <td>1.000000</td>\n",
       "    </tr>\n",
       "  </tbody>\n",
       "</table>\n",
       "</div>"
      ],
      "text/plain": [
       "               age          sex           cp     trestbps        chol  \\\n",
       "count  1025.000000  1025.000000  1025.000000  1025.000000  1025.00000   \n",
       "mean     54.434146     0.695610     0.942439   131.611707   246.00000   \n",
       "std       9.072290     0.460373     1.029641    17.516718    51.59251   \n",
       "min      29.000000     0.000000     0.000000    94.000000   126.00000   \n",
       "25%      48.000000     0.000000     0.000000   120.000000   211.00000   \n",
       "50%      56.000000     1.000000     1.000000   130.000000   240.00000   \n",
       "75%      61.000000     1.000000     2.000000   140.000000   275.00000   \n",
       "max      77.000000     1.000000     3.000000   200.000000   564.00000   \n",
       "\n",
       "               fbs      restecg      thalach        exang      oldpeak  \\\n",
       "count  1025.000000  1025.000000  1025.000000  1025.000000  1025.000000   \n",
       "mean      0.149268     0.529756   149.114146     0.336585     1.071512   \n",
       "std       0.356527     0.527878    23.005724     0.472772     1.175053   \n",
       "min       0.000000     0.000000    71.000000     0.000000     0.000000   \n",
       "25%       0.000000     0.000000   132.000000     0.000000     0.000000   \n",
       "50%       0.000000     1.000000   152.000000     0.000000     0.800000   \n",
       "75%       0.000000     1.000000   166.000000     1.000000     1.800000   \n",
       "max       1.000000     2.000000   202.000000     1.000000     6.200000   \n",
       "\n",
       "             slope           ca         thal       target  \n",
       "count  1025.000000  1025.000000  1025.000000  1025.000000  \n",
       "mean      1.385366     0.754146     2.323902     0.513171  \n",
       "std       0.617755     1.030798     0.620660     0.500070  \n",
       "min       0.000000     0.000000     0.000000     0.000000  \n",
       "25%       1.000000     0.000000     2.000000     0.000000  \n",
       "50%       1.000000     0.000000     2.000000     1.000000  \n",
       "75%       2.000000     1.000000     3.000000     1.000000  \n",
       "max       2.000000     4.000000     3.000000     1.000000  "
      ]
     },
     "execution_count": 2,
     "metadata": {},
     "output_type": "execute_result"
    }
   ],
   "source": [
    "df.describe()"
   ]
  },
  {
   "cell_type": "code",
   "execution_count": 3,
   "id": "0efea2cf",
   "metadata": {},
   "outputs": [
    {
     "data": {
      "text/html": [
       "<div>\n",
       "<style scoped>\n",
       "    .dataframe tbody tr th:only-of-type {\n",
       "        vertical-align: middle;\n",
       "    }\n",
       "\n",
       "    .dataframe tbody tr th {\n",
       "        vertical-align: top;\n",
       "    }\n",
       "\n",
       "    .dataframe thead th {\n",
       "        text-align: right;\n",
       "    }\n",
       "</style>\n",
       "<table border=\"1\" class=\"dataframe\">\n",
       "  <thead>\n",
       "    <tr style=\"text-align: right;\">\n",
       "      <th></th>\n",
       "      <th>target</th>\n",
       "    </tr>\n",
       "  </thead>\n",
       "  <tbody>\n",
       "    <tr>\n",
       "      <th>1</th>\n",
       "      <td>526</td>\n",
       "    </tr>\n",
       "    <tr>\n",
       "      <th>0</th>\n",
       "      <td>499</td>\n",
       "    </tr>\n",
       "  </tbody>\n",
       "</table>\n",
       "</div>"
      ],
      "text/plain": [
       "   target\n",
       "1     526\n",
       "0     499"
      ]
     },
     "execution_count": 3,
     "metadata": {},
     "output_type": "execute_result"
    }
   ],
   "source": [
    "df['target'].value_counts().to_frame()"
   ]
  },
  {
   "cell_type": "code",
   "execution_count": null,
   "id": "edc524fa",
   "metadata": {},
   "outputs": [],
   "source": []
  },
  {
   "cell_type": "code",
   "execution_count": 4,
   "id": "5cc44fdf",
   "metadata": {},
   "outputs": [],
   "source": [
    "# chia ra âm tính và dương tính\n",
    "df_0 = df[df['target'] == 0]\n",
    "df_1 = df[df['target'] == 1]\n",
    "# tách 70% và 30% của từng tập\n",
    "df_0_70, df_0_30 = train_test_split(df_0, test_size=0.3, random_state = 42)\n",
    "df_1_70, df_1_30 = train_test_split(df_1, test_size=0.3, random_state = 42)\n",
    "df_train = pd.concat([df_0_70, df_1_70], axis=0)\n",
    "df_test = pd.concat([df_0_30, df_1_30], axis=0)\n",
    "df_train = df_train.sample(frac=1, random_state=42)\n",
    "df_test = df_test.sample(frac=1, random_state=42)"
   ]
  },
  {
   "cell_type": "code",
   "execution_count": null,
   "id": "3b149f0e",
   "metadata": {},
   "outputs": [],
   "source": []
  },
  {
   "cell_type": "code",
   "execution_count": 5,
   "id": "52363d92",
   "metadata": {},
   "outputs": [
    {
     "data": {
      "text/plain": [
       "(   target\n",
       " 1     368\n",
       " 0     349,\n",
       "    target\n",
       " 1     158\n",
       " 0     150)"
      ]
     },
     "execution_count": 5,
     "metadata": {},
     "output_type": "execute_result"
    }
   ],
   "source": [
    "df_train['target'].value_counts().to_frame(), df_test['target'].value_counts().to_frame()"
   ]
  },
  {
   "cell_type": "code",
   "execution_count": 6,
   "id": "daa6a53c",
   "metadata": {},
   "outputs": [],
   "source": [
    "# Tạo bộ dữ liệu train\n",
    "X_train = df_train.iloc[:, :-1].values\n",
    "y_train = df_train.iloc[:,-1:].values # df.iloc[:,-:-1].values sẽ trả về mảng một chiều\n",
    "one_b = np.ones((X_train.shape[0], 1))\n",
    "X_train = np.concatenate((X_train, one_b), axis = 1)\n",
    "# Tạo bộ dữ liệu test\n",
    "X_test = df_test.iloc[:, :-1].values\n",
    "y_test = df_test.iloc[:,-1:].values # df.iloc[:,-:-1].values sẽ trả về mảng một chiều\n",
    "one_b = np.ones((X_test.shape[0], 1))\n",
    "X_test = np.concatenate((X_test, one_b), axis = 1)\n",
    "\n"
   ]
  },
  {
   "cell_type": "code",
   "execution_count": 7,
   "id": "94132469",
   "metadata": {},
   "outputs": [],
   "source": [
    "from sklearn.preprocessing import Normalizer\n",
    "nl = Normalizer()\n",
    "X_train[:, (3, 4, 7)] = nl.fit_transform(X_train[:, (3, 4, 7)])\n",
    "X_test[:, (3, 4, 7)] = nl.transform(X_test[:, (3, 4, 7)])"
   ]
  },
  {
   "cell_type": "code",
   "execution_count": 8,
   "id": "1350207f",
   "metadata": {},
   "outputs": [
    {
     "name": "stdout",
     "output_type": "stream",
     "text": [
      "[-0.02641031 -1.53617117  0.85742578  0.70036421  1.19495943  0.12968019\n",
      "  0.6700975   2.27583263 -1.1991769  -0.53989303  0.63203787 -0.76448391\n",
      " -0.8093717   1.50701209]\n",
      "MSE_train = 0.3620085319127001 sau 100000 vòng lặp\n",
      "Precision rate train: 0.8380462724935732\n",
      "Recall rate train: 0.8858695652173914\n",
      "F1 score train: 0.8612945838837517\n",
      "Accurate train: 0.8535564853556485\n"
     ]
    },
    {
     "data": {
      "image/png": "[encoded data removed]",
      "text/plain": [
       "<Figure size 432x288 with 1 Axes>"
      ]
     },
     "metadata": {
      "needs_background": "light"
     },
     "output_type": "display_data"
    }
   ],
   "source": [
    "def g_function(X, w_b):\n",
    "    return X.dot(w_b.reshape(-1, 1)); # (z) mảng w_b ban đầu là mảng 1 chiều dùng reshape để chuyên về nhiều hàng 1 cột, để nhân có hướng với X\n",
    "\n",
    "def sigmoid(g): # g = w*x + b\n",
    "    a = 1/(1+np.exp(-g))\n",
    "    return a\n",
    "def Loss_function(y, sigmoid_result):\n",
    "    x = np.log(sigmoid_result)\n",
    "    x1 = np.log(1 - sigmoid_result)\n",
    "    a = -(y)*x - (1-y)*x1\n",
    "    return np.mean(a)\n",
    "    \n",
    "def derivative_Loss_wb(X, y, y_predict): \n",
    "    a = (y_predict - y)*X\n",
    "    return np.mean(a, axis=0);\n",
    "def value_final(y_predict, bound):\n",
    "    for i in range(0, y_predict.shape[0]):\n",
    "        if (y_predict[i] > bound):\n",
    "            y_predict[i] = 1\n",
    "        else:\n",
    "            y_predict[i] = 0\n",
    "    return y_predict;\n",
    "def accurate_rate(y_predict_final, y):\n",
    "    return ((y == y_predict_final).sum())/y_predict.shape[0];\n",
    "\n",
    "def precision_rate(y_predict_final, y):\n",
    "    # số dự đoán là 1\n",
    "    true_false_positive = (y_predict_final == 1).sum()\n",
    "    \n",
    "    true_positive = (y[(y_predict_final == 1)] ==1).sum() # TP là dự đoán 1 đúng, y_predict_final == 1 thi y cũng == 1 \n",
    "                                                            # y1=(y_predict_final == 1) ; y2=y_train[(y_predict_final == 1)]; (y2 == 1).sum()\n",
    "    return true_positive/true_false_positive;\n",
    "def recall_rate(y_predict_final, y):\n",
    "    # TP + FN số thực sự là 1\n",
    "    actual_positive = (y == 1).sum()\n",
    "    true_positive = (y[(y_predict_final == 1)] ==1).sum() \n",
    "    return true_positive/actual_positive;\n",
    "def F1_rate(pre, rec):\n",
    "    return 2*pre*rec/(pre+rec);\n",
    "    \n",
    "w_b = np.array([1, 2, 1, 2, 3, 1, 2, 1, 2, 1, 2, 1, 2, 1])\n",
    "w_b = w_b*0.3\n",
    "stored = []; MSE = [];\n",
    "u = 0.004; \n",
    "bound = 0.5\n",
    "for i in range(0, 100000):\n",
    "    g = g_function(X_train, w_b)\n",
    "    y_predict = sigmoid(g)\n",
    "    stored.append(w_b.copy());\n",
    "    MSE.append(Loss_function(y_train, y_predict))\n",
    "    derivate_MSE = derivative_Loss_wb(X_train, y_train, y_predict)\n",
    "    w_b = w_b - u*derivate_MSE;\n",
    "\n",
    "w_b = stored[MSE.index(min(MSE))]\n",
    "print(w_b)\n",
    "print(\"MSE_train = {0} sau {1} vòng lặp\".format(min(MSE), (MSE.index(min(MSE)) + 1)))\n",
    "plt.plot(MSE)\n",
    "# train\n",
    "g = g_function(X_train, w_b)\n",
    "y_predict = sigmoid(g)\n",
    "y_predict_final = value_final(y_predict, bound)\n",
    "#print(y_predict)\n",
    "accurate = accurate_rate(y_predict, y_train)\n",
    "pre = precision_rate(y_predict_final, y_train)\n",
    "rec = recall_rate(y_predict_final, y_train)\n",
    "F1 = F1_rate(pre, rec)\n",
    "print(\"Precision rate train: {0}\\nRecall rate train: {1}\\nF1 score train: {2}\\nAccurate train: {3}\".format(pre, rec, F1, accurate))\n"
   ]
  },
  {
   "cell_type": "code",
   "execution_count": null,
   "id": "0c80bf88",
   "metadata": {},
   "outputs": [],
   "source": []
  },
  {
   "cell_type": "code",
   "execution_count": 9,
   "id": "ab6a5479",
   "metadata": {},
   "outputs": [
    {
     "name": "stdout",
     "output_type": "stream",
     "text": [
      "Precision rate test: 0.8372093023255814\n",
      "Recall rate test: 0.9113924050632911\n",
      "F1 score test: 0.8727272727272727\n",
      "Accurate test: 0.8636363636363636\n"
     ]
    }
   ],
   "source": [
    "# Test\n",
    "g = g_function(X_test, w_b)\n",
    "y_predict = sigmoid(g)\n",
    "y_predict_final = value_final(y_predict, bound)\n",
    "accurate = accurate_rate(y_predict, y_test)\n",
    "pre = precision_rate(y_predict_final, y_test)\n",
    "rec = recall_rate(y_predict_final, y_test)\n",
    "F1 = F1_rate(pre, rec)\n",
    "print(\"Precision rate test: {0}\\nRecall rate test: {1}\\nF1 score test: {2}\\nAccurate test: {3}\".format(pre, rec, F1, accurate))\n"
   ]
  },
  {
   "cell_type": "markdown",
   "id": "8266d686",
   "metadata": {},
   "source": [
    "## Tạo bộ dữ liệu để thử với hai thực nghiệm\n",
    "#### 100+, 349-"
   ]
  },
  {
   "cell_type": "code",
   "execution_count": 10,
   "id": "be2e94e6",
   "metadata": {},
   "outputs": [
    {
     "data": {
      "text/plain": [
       "1    368\n",
       "0    349\n",
       "Name: target, dtype: int64"
      ]
     },
     "execution_count": 10,
     "metadata": {},
     "output_type": "execute_result"
    }
   ],
   "source": [
    "df_train['target'].value_counts()"
   ]
  },
  {
   "cell_type": "code",
   "execution_count": 11,
   "id": "b85fae88",
   "metadata": {},
   "outputs": [],
   "source": [
    "df_train_1 = df_train[(df_train['target'] == 1)].iloc[:100]\n",
    "df_train_0 = df_train[(df_train['target'] == 0)]\n",
    "df_Experiment = pd.concat([df_train_0, df_train_1], axis = 0)\n",
    "df_Experiment = df_Experiment.sample(frac=1, random_state=42)"
   ]
  },
  {
   "cell_type": "code",
   "execution_count": 12,
   "id": "a3d4ebbb",
   "metadata": {},
   "outputs": [
    {
     "data": {
      "text/plain": [
       "(449, 14)"
      ]
     },
     "execution_count": 12,
     "metadata": {},
     "output_type": "execute_result"
    }
   ],
   "source": [
    "df_Experiment.shape"
   ]
  },
  {
   "cell_type": "code",
   "execution_count": 13,
   "id": "965dd89e",
   "metadata": {},
   "outputs": [
    {
     "data": {
      "text/plain": [
       "0    349\n",
       "1    100\n",
       "Name: target, dtype: int64"
      ]
     },
     "execution_count": 13,
     "metadata": {},
     "output_type": "execute_result"
    }
   ],
   "source": [
    "df_Experiment['target'].value_counts()"
   ]
  },
  {
   "cell_type": "code",
   "execution_count": 14,
   "id": "a88ab48b",
   "metadata": {},
   "outputs": [],
   "source": [
    "X_train = df_Experiment.iloc[:, :-1].values\n",
    "y_train = df_Experiment.iloc[:,-1:].values # df.iloc[:,-:-1].values sẽ trả về mảng một chiều\n",
    "one_b = np.ones((X_train.shape[0], 1))\n",
    "X_train = np.concatenate((X_train, one_b), axis = 1)"
   ]
  },
  {
   "cell_type": "code",
   "execution_count": 15,
   "id": "d5848c58",
   "metadata": {},
   "outputs": [
    {
     "data": {
      "text/plain": [
       "((449, 14), (449, 1))"
      ]
     },
     "execution_count": 15,
     "metadata": {},
     "output_type": "execute_result"
    }
   ],
   "source": [
    "X_train.shape, y_train.shape"
   ]
  },
  {
   "cell_type": "code",
   "execution_count": 16,
   "id": "76a486bc",
   "metadata": {},
   "outputs": [
    {
     "data": {
      "text/plain": [
       "1    158\n",
       "0    150\n",
       "Name: target, dtype: int64"
      ]
     },
     "execution_count": 16,
     "metadata": {},
     "output_type": "execute_result"
    }
   ],
   "source": [
    "df_test['target'].value_counts()"
   ]
  },
  {
   "cell_type": "markdown",
   "id": "8c57a9af",
   "metadata": {},
   "source": [
    "#### tạo được bộ dữ liệu thực nghiệm là df_Experiment"
   ]
  },
  {
   "cell_type": "markdown",
   "id": "8294e7b6",
   "metadata": {},
   "source": [
    "### TH1: Không can thiệp hệ số"
   ]
  },
  {
   "cell_type": "code",
   "execution_count": 23,
   "id": "0b27685b",
   "metadata": {},
   "outputs": [
    {
     "name": "stdout",
     "output_type": "stream",
     "text": [
      "[-0.00610689 -0.52215418  0.61557587 -0.0157914  -0.00662761  0.17277883\n",
      "  0.28424904  0.02999976 -0.34486561 -0.65586302  0.30016192 -0.47106951\n",
      " -0.61321734 -0.02239886]\n",
      "MSE_train = 0.29885033798322835 sau 200000 vòng lặp\n",
      "Precision rate train: 0.8157894736842105\n",
      "Recall rate train: 0.62\n",
      "F1 score train: 0.7045454545454546\n",
      "Accurate train: 0.8841870824053452\n"
     ]
    },
    {
     "data": {
      "image/png": "[encoded data removed]",
      "text/plain": [
       "<Figure size 432x288 with 1 Axes>"
      ]
     },
     "metadata": {
      "needs_background": "light"
     },
     "output_type": "display_data"
    }
   ],
   "source": [
    "w_b = np.array([1, 2, 1, 2, 3, 1, 2, 1, 2, 1, 2, 1, 2, 1])\n",
    "w_b = w_b*0.00004\n",
    "stored = []; MSE = [];\n",
    "u = 0.0001;\n",
    "bound = 0.5\n",
    "for i in range(0, 200000):\n",
    "    g = g_function(X_train, w_b)\n",
    "    y_predict = sigmoid(g)\n",
    "    stored.append(w_b.copy());\n",
    "    MSE.append(Loss_function(y_train, y_predict))\n",
    "    derivate_MSE = derivative_Loss_wb(X_train, y_train, y_predict)\n",
    "    w_b = w_b - u*derivate_MSE;\n",
    "\n",
    "w_b = stored[MSE.index(min(MSE))]\n",
    "print(w_b)\n",
    "print(\"MSE_train = {0} sau {1} vòng lặp\".format(min(MSE), (MSE.index(min(MSE)) + 1)))\n",
    "plt.plot(MSE)\n",
    "# train\n",
    "g = g_function(X_train, w_b)\n",
    "y_predict = sigmoid(g)\n",
    "y_predict_final = value_final(y_predict, bound)\n",
    "#print(y_predict)\n",
    "accurate = accurate_rate(y_predict, y_train)\n",
    "pre = precision_rate(y_predict_final, y_train)\n",
    "rec = recall_rate(y_predict_final, y_train)\n",
    "F1 = F1_rate(pre, rec)\n",
    "print(\"Precision rate train: {0}\\nRecall rate train: {1}\\nF1 score train: {2}\\nAccurate train: {3}\".format(pre, rec, F1, accurate))"
   ]
  },
  {
   "cell_type": "code",
   "execution_count": 24,
   "id": "3f91d17d",
   "metadata": {},
   "outputs": [
    {
     "name": "stdout",
     "output_type": "stream",
     "text": [
      "Precision rate test: 0.9166666666666666\n",
      "Recall rate test: 0.13924050632911392\n",
      "F1 score test: 0.24175824175824176\n",
      "Accurate test: 0.551948051948052\n"
     ]
    }
   ],
   "source": [
    "# Test\n",
    "g = g_function(X_test, w_b)\n",
    "y_predict = sigmoid(g)\n",
    "y_predict_final = value_final(y_predict, bound)\n",
    "accurate = accurate_rate(y_predict, y_test)\n",
    "pre = precision_rate(y_predict_final, y_test)\n",
    "rec = recall_rate(y_predict_final, y_test)\n",
    "F1 = F1_rate(pre, rec)\n",
    "print(\"Precision rate test: {0}\\nRecall rate test: {1}\\nF1 score test: {2}\\nAccurate test: {3}\".format(pre, rec, F1, accurate))\n"
   ]
  },
  {
   "cell_type": "code",
   "execution_count": 25,
   "id": "5f3342da",
   "metadata": {},
   "outputs": [
    {
     "data": {
      "text/plain": [
       "24"
      ]
     },
     "execution_count": 25,
     "metadata": {},
     "output_type": "execute_result"
    }
   ],
   "source": [
    "(y_predict_final == 1).sum()"
   ]
  },
  {
   "cell_type": "markdown",
   "id": "c33f2c1d",
   "metadata": {},
   "source": [
    "### Có can thiệp hệ số\n"
   ]
  },
  {
   "cell_type": "code",
   "execution_count": 26,
   "id": "2a5346d3",
   "metadata": {},
   "outputs": [
    {
     "name": "stdout",
     "output_type": "stream",
     "text": [
      "[ 0.00881817 -0.70203012  0.63794784 -0.01666231 -0.00496054  0.27338888\n",
      "  0.4789558   0.03190049 -0.48458984 -0.73369862  0.40706497 -0.52894263\n",
      " -0.80132221  0.00381185]\n",
      "MSE_train = 0.5215034964954262 sau 200000 vòng lặp\n",
      "Precision rate train: 0.581081081081081\n",
      "Recall rate train: 0.86\n",
      "F1 score train: 0.6935483870967741\n",
      "Accurate train: 0.8307349665924276\n"
     ]
    },
    {
     "data": {
      "image/png": "[encoded data removed]",
      "text/plain": [
       "<Figure size 432x288 with 1 Axes>"
      ]
     },
     "metadata": {
      "needs_background": "light"
     },
     "output_type": "display_data"
    }
   ],
   "source": [
    "def mod_Loss_function(y, sigmoid_result):\n",
    "    x = np.log(sigmoid_result)\n",
    "    x1 = np.log(1 - sigmoid_result)\n",
    "    a = -3*(y)*x - (1-y)*x1\n",
    "    return np.mean(a)\n",
    "def mod_derivative_Loss_wb(X, y, y_predict): \n",
    "    a = (y_predict + 2*y*y_predict - 3*y)*X\n",
    "    return np.mean(a, axis=0);\n",
    "w_b = np.array([1, 2, 4, 2, 3, 1, 2, 1, 2, 1, 2, 1, 2, 1])\n",
    "w_b = w_b*0.00004\n",
    "stored = []; MSE = [];\n",
    "u = 0.0001; \n",
    "bound = 0.5\n",
    "for i in range(0, 200000):\n",
    "    g = g_function(X_train, w_b)\n",
    "    y_predict = sigmoid(g)\n",
    "    stored.append(w_b.copy());\n",
    "    MSE.append(mod_Loss_function(y_train, y_predict))\n",
    "    derivate_MSE = mod_derivative_Loss_wb(X_train, y_train, y_predict)\n",
    "    w_b = w_b - u*derivate_MSE;\n",
    "\n",
    "w_b = stored[MSE.index(min(MSE))]\n",
    "print(w_b)\n",
    "print(\"MSE_train = {0} sau {1} vòng lặp\".format(min(MSE), (MSE.index(min(MSE)) + 1)))\n",
    "plt.plot(MSE)\n",
    "# train\n",
    "g = g_function(X_train, w_b)\n",
    "y_predict = sigmoid(g)\n",
    "y_predict_final = value_final(y_predict, bound)\n",
    "#print(y_predict)\n",
    "accurate = accurate_rate(y_predict, y_train)\n",
    "pre = precision_rate(y_predict_final, y_train)\n",
    "rec = recall_rate(y_predict_final, y_train)\n",
    "F1 = F1_rate(pre, rec)\n",
    "print(\"Precision rate train: {0}\\nRecall rate train: {1}\\nF1 score train: {2}\\nAccurate train: {3}\".format(pre, rec, F1, accurate))"
   ]
  },
  {
   "cell_type": "code",
   "execution_count": 21,
   "id": "18221ea0",
   "metadata": {},
   "outputs": [
    {
     "name": "stdout",
     "output_type": "stream",
     "text": [
      "Precision rate test: 0.9298245614035088\n",
      "Recall rate test: 0.33544303797468356\n",
      "F1 score test: 0.49302325581395345\n",
      "Accurate test: 0.6461038961038961\n"
     ]
    }
   ],
   "source": [
    "# Test\n",
    "g = g_function(X_test, w_b)\n",
    "y_predict = sigmoid(g)\n",
    "y_predict_final = value_final(y_predict, bound)\n",
    "accurate = accurate_rate(y_predict, y_test)\n",
    "pre = precision_rate(y_predict_final, y_test)\n",
    "rec = recall_rate(y_predict_final, y_test)\n",
    "F1 = F1_rate(pre, rec)\n",
    "print(\"Precision rate test: {0}\\nRecall rate test: {1}\\nF1 score test: {2}\\nAccurate test: {3}\".format(pre, rec, F1, accurate))\n",
    "\n"
   ]
  },
  {
   "cell_type": "code",
   "execution_count": 22,
   "id": "42319f36",
   "metadata": {},
   "outputs": [
    {
     "data": {
      "text/plain": [
       "57"
      ]
     },
     "execution_count": 22,
     "metadata": {},
     "output_type": "execute_result"
    }
   ],
   "source": [
    "(y_predict_final == 1).sum()"
   ]
  },
  {
   "cell_type": "code",
   "execution_count": null,
   "id": "b185a829",
   "metadata": {},
   "outputs": [],
   "source": []
  },
  {
   "cell_type": "code",
   "execution_count": null,
   "id": "72985507",
   "metadata": {},
   "outputs": [],
   "source": []
  }
 ],
 "metadata": {
  "kernelspec": {
   "display_name": "Python 3 (ipykernel)",
   "language": "python",
   "name": "python3"
  },
  "language_info": {
   "codemirror_mode": {
    "name": "ipython",
    "version": 3
   },
   "file_extension": ".py",
   "mimetype": "text/x-python",
   "name": "python",
   "nbconvert_exporter": "python",
   "pygments_lexer": "ipython3",
   "version": "3.9.12"
  }
 },
 "nbformat": 4,
 "nbformat_minor": 5
}
