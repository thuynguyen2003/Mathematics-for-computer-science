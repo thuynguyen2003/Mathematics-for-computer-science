{
 "cells": [
  {
   "cell_type": "code",
   "execution_count": 1,
   "id": "1549c86e",
   "metadata": {},
   "outputs": [
    {
     "data": {
      "image/png": "[encoded data removed]",
      "text/plain": [
       "<Figure size 432x288 with 1 Axes>"
      ]
     },
     "metadata": {
      "needs_background": "light"
     },
     "output_type": "display_data"
    },
    {
     "name": "stdout",
     "output_type": "stream",
     "text": [
      "w1 = 1.9987296451395842, w2 = 2.998016797760077, b = 7.327773495767915, MSE_train = 1.1076369794133667 sau 4056 vòng lặp\n"
     ]
    },
    {
     "data": {
      "image/png": "[encoded data removed]",
      "text/plain": [
       "<Figure size 432x288 with 1 Axes>"
      ]
     },
     "metadata": {
      "needs_background": "light"
     },
     "output_type": "display_data"
    },
    {
     "name": "stdout",
     "output_type": "stream",
     "text": [
      "MSE_test = 1.1999067594993766\n",
      "run time 0.45692014694213867\n"
     ]
    }
   ],
   "source": [
    "import numpy as np\n",
    "import random\n",
    "import matplotlib.pyplot as plt\n",
    "from sklearn.model_selection import train_test_split\n",
    "import time\n",
    "start_time = time.time()\n",
    "np.random.seed(3)\n",
    "X1 = np.random.randint(11, high=161, size=150, dtype=int)\n",
    "X2 = np.random.randint(6, high=156, size=150, dtype=int)\n",
    "y = 2*X1 + 3*X2 + 7 + np.random.randn(150)\n",
    "y = y.reshape(-1, 1)\n",
    "one_b = np.ones((X1.shape[0], 1))\n",
    "X = np.concatenate((X1.reshape(-1, 1), X2.reshape(-1, 1), one_b), axis = 1)\n",
    "X_train, X_test, y_train, y_test = train_test_split(X, y, train_size= 100)\n",
    "def value(X, w_b):\n",
    "    return X.dot(w_b.reshape(-1, 1)); # mảng w_b ban đầu là mảng 1 chiều dùng reshape để chuyên về nhiều hàng 1 cột, để nhân có hướng với X\n",
    "def L_MSE(y_predict, y):\n",
    "    a = (y_predict - y)**2\n",
    "    return np.mean(a);\n",
    "def derivative_MSE_wb(X, y, y_predict): \n",
    "    a = X*(y_predict - y);\n",
    "    return np.mean(a, axis=0);\n",
    "w1 = 1\n",
    "w2 = 1\n",
    "b = 2\n",
    "stored = [];\n",
    "MSE = [];\n",
    "u = 0.00001\n",
    "u1 = 0.1\n",
    "for i in range(0, 5000):\n",
    "    w_b = np.array([w1, w2, b])\n",
    "    y_predict = value(X_train, w_b)\n",
    "    stored.append(w_b.copy());\n",
    "    MSE.append(L_MSE(y_predict, y_train))\n",
    "    derivate_MSE = derivative_MSE_wb(X_train, y_train, y_predict)\n",
    "    w1 = w1 - u*derivate_MSE[0];\n",
    "    w2 = w2 - u*derivate_MSE[1];\n",
    "    b = b - u1*derivate_MSE[2];\n",
    "#train\n",
    "w_b = stored[MSE.index(min(MSE))]\n",
    "w1, w2, b = w_b\n",
    "plt.plot(MSE)\n",
    "plt.show()\n",
    "print(\"w1 = {0}, w2 = {1}, b = {2}, MSE_train = {3} sau {4} vòng lặp\".format(w1, w2, b,min(MSE), MSE.index(min(MSE)) +1 ))\n",
    "y_train_predict = value(X_train, w_b)\n",
    "# bộ dữ liệu test\n",
    "y_test_predict = value(X_test, w_b)\n",
    "MSE_test = L_MSE(y_test_predict, y_test)\n",
    "plt.plot(MSE)\n",
    "plt.show()\n",
    "print(\"MSE_test = {}\".format(MSE_test))\n",
    "run_time = time.time() - start_time\n",
    "print('run time', run_time)"
   ]
  },
  {
   "cell_type": "code",
   "execution_count": null,
   "id": "06d76c73",
   "metadata": {},
   "outputs": [],
   "source": []
  },
  {
   "cell_type": "code",
   "execution_count": null,
   "id": "b10cb0ef",
   "metadata": {},
   "outputs": [],
   "source": []
  },
  {
   "cell_type": "code",
   "execution_count": null,
   "id": "24ae4c66",
   "metadata": {},
   "outputs": [],
   "source": []
  }
 ],
 "metadata": {
  "kernelspec": {
   "display_name": "Python 3 (ipykernel)",
   "language": "python",
   "name": "python3"
  },
  "language_info": {
   "codemirror_mode": {
    "name": "ipython",
    "version": 3
   },
   "file_extension": ".py",
   "mimetype": "text/x-python",
   "name": "python",
   "nbconvert_exporter": "python",
   "pygments_lexer": "ipython3",
   "version": "3.9.12"
  }
 },
 "nbformat": 4,
 "nbformat_minor": 5
}
